{
 "cells": [
  {
   "cell_type": "code",
   "execution_count": 19,
   "id": "9ba1f9f0",
   "metadata": {},
   "outputs": [],
   "source": [
    "import numpy as np\n",
    "import pandas as pd\n",
    "from sklearn.metrics.pairwise import cosine_similarity\n",
    "from rapidfuzz import process, fuzz"
   ]
  },
  {
   "cell_type": "code",
   "execution_count": 20,
   "id": "7477947e",
   "metadata": {},
   "outputs": [],
   "source": [
    "def get_best_match_rapid(query, choices, scorer=fuzz.WRatio):\n",
    "    \"\"\"\n",
    "    Returns the best match of `query` in `choices` using Rapidfuzz.\n",
    "    - `scorer`: Scoring function from fuzz, such as fuzz.WRatio, fuzz.QRatio, etc.\n",
    "    \"\"\"\n",
    "    result = process.extractOne(query, choices, scorer=scorer)\n",
    "    if result:\n",
    "        return result[0]\n",
    "    return None"
   ]
  },
  {
   "cell_type": "code",
   "execution_count": 28,
   "id": "457961bb",
   "metadata": {},
   "outputs": [],
   "source": [
    "\n",
    "def ingredients_to_binary(ingredient_string, df_ingredients):\n",
    "    \"\"\"\n",
    "    Converts a string of ingredients into a binary list indicating the presence of unique ingredients based on the best match.\n",
    "    - `ingredient_string`: A string of ingredients separated by commas or spaces.\n",
    "    - `unique_ingredients`: A list of all unique ingredient names.\n",
    "    \"\"\"\n",
    "    # Initialize the binary list\n",
    "    ingredients_binary = [0] * len(df_ingredients)\n",
    "    \n",
    "    # Normalize and split the ingredient string by commas or spaces\n",
    "    queries = ingredient_string.replace(',', ' ').split()\n",
    "    \n",
    "    for query in queries:\n",
    "        query = query.lower()\n",
    "        best_match = get_best_match_rapid(query,df_ingredients)\n",
    "        if best_match:\n",
    "            # Update the binary list\n",
    "            index = unique_ingredients.index(best_match)\n",
    "            ingredients_binary[index] = 1  # Set to 1 at the index of the best match\n",
    "\n",
    "    return ingredients_binary"
   ]
  },
  {
   "cell_type": "code",
   "execution_count": 38,
   "id": "ad3fe2a8",
   "metadata": {},
   "outputs": [],
   "source": [
    "#Get the Top n scores from my cosine similarity matrix\n",
    "\n",
    "def top_n_scores(scores, n):\n",
    "    # Flatten the array (if it's multidimensional)\n",
    "    scores = scores.flatten()\n",
    "    \n",
    "    # Get the indices that would sort the array, and select the last 'n' indices (top scores)\n",
    "    top_indices = np.argsort(scores)[-n:][::-1]\n",
    "    \n",
    "    \n",
    "    return top_indices"
   ]
  },
  {
   "cell_type": "code",
   "execution_count": 23,
   "id": "6649b606",
   "metadata": {},
   "outputs": [],
   "source": [
    "def get_columns_with_ones(df, row_index):\n",
    "    condition = df.loc[row_index] == 1\n",
    "    return df.columns[condition].tolist()"
   ]
  },
  {
   "cell_type": "code",
   "execution_count": 40,
   "id": "133e170a",
   "metadata": {},
   "outputs": [],
   "source": [
    "# See what Recipes and subsequent Ingredients were recommended\n",
    "\n",
    "def get_recipes(df, similarity, n):\n",
    "    \n",
    "    # store list of recipes\n",
    "    recipes = []\n",
    "    \n",
    "    #store lsit of ingredients \n",
    "    ingredients = []\n",
    "    \n",
    "    top_indices = top_n_scores(similarity, 10)\n",
    "\n",
    "    for each in top_indices:\n",
    "        \n",
    "        recipes.append(df.recipename[df.id == each])\n",
    "        \n",
    "        ingredients.append(get_columns_with_ones(df,each))\n",
    "        \n",
    "    return recipes, ingredients"
   ]
  },
  {
   "cell_type": "code",
   "execution_count": 25,
   "id": "4c5f8b67",
   "metadata": {},
   "outputs": [],
   "source": [
    "# Import data \n",
    "data = pd.read_csv('../recipe_ingredients_dataset/ingredient_df_with_recipenames.csv')"
   ]
  },
  {
   "cell_type": "code",
   "execution_count": 26,
   "id": "bd202b2d",
   "metadata": {},
   "outputs": [],
   "source": [
    "# Get list of unique ingredients in dataset\n",
    "unique_ingredients = [col for col in data.columns if col not in ['id', 'cuisine','recipename']]"
   ]
  },
  {
   "cell_type": "code",
   "execution_count": 29,
   "id": "34cf9f05",
   "metadata": {},
   "outputs": [],
   "source": [
    "user_input = 'Butter, Milk, Eggs'\n",
    "\n",
    "# Process user string input as binary for SVD recommendation\n",
    "x = ingredients_to_binary(user_input, unique_ingredients)"
   ]
  },
  {
   "cell_type": "code",
   "execution_count": 31,
   "id": "6fd55371",
   "metadata": {},
   "outputs": [],
   "source": [
    "# Load in SVD Matrices \n",
    "vmatrix = pd.read_csv('../recipe_ingredients_dataset/V_1000matrix.csv',index_col=0)\n",
    "umatrix = pd.read_csv('../recipe_ingredients_dataset/U_1000matrix.csv',index_col=0)"
   ]
  },
  {
   "cell_type": "code",
   "execution_count": 33,
   "id": "54a29635",
   "metadata": {},
   "outputs": [],
   "source": [
    "# Make sample a Series for manipulation\n",
    "x = pd.Series(x)"
   ]
  },
  {
   "cell_type": "code",
   "execution_count": 34,
   "id": "d7c48e33",
   "metadata": {
    "scrolled": false
   },
   "outputs": [],
   "source": [
    "# Dot product of user input and the V matrix. \n",
    "xcon = x.dot(vmatrix)"
   ]
  },
  {
   "cell_type": "code",
   "execution_count": 35,
   "id": "687f8da1",
   "metadata": {},
   "outputs": [],
   "source": [
    "# xconcept and U must both be numpy arrays, and must be properly reshaped. \n",
    "\n",
    "xcon = np.array(xcon)\n",
    "\n",
    "umatrix = np.array(umatrix)\n",
    "\n",
    "xcon = xcon.reshape(1, -1)"
   ]
  },
  {
   "cell_type": "code",
   "execution_count": 36,
   "id": "70dd58fb",
   "metadata": {},
   "outputs": [],
   "source": [
    "#cosine similarity with our U matrix\n",
    "similarities = cosine_similarity(umatrix, xcon)"
   ]
  },
  {
   "cell_type": "code",
   "execution_count": 41,
   "id": "48a14e41",
   "metadata": {
    "scrolled": false
   },
   "outputs": [],
   "source": [
    "# Get recommended recipes and ingredients \n",
    "recommendations = get_recipes(data, similarities, 30)"
   ]
  },
  {
   "cell_type": "code",
   "execution_count": 42,
   "id": "bc50883b",
   "metadata": {},
   "outputs": [
    {
     "data": {
      "text/plain": [
       "([48995    mexican Style  milk sugar\n",
       "  Name: recipename, dtype: object,\n",
       "  43649    british Style  milk all-purpose flour\n",
       "  Name: recipename, dtype: object,\n",
       "  2448    mexican Style  milk butter water\n",
       "  Name: recipename, dtype: object,\n",
       "  8824    french Style  milk butter water\n",
       "  Name: recipename, dtype: object,\n",
       "  24215    british Style  milk butter\n",
       "  Name: recipename, dtype: object,\n",
       "  22770    british Style  flour\n",
       "  Name: recipename, dtype: object,\n",
       "  34772    vietnamese Style  milk butter drippings\n",
       "  Name: recipename, dtype: object,\n",
       "  5024    mexican Style  milk\n",
       "  Name: recipename, dtype: object,\n",
       "  47994    japanese Style  milk eggs all-purpose flour\n",
       "  Name: recipename, dtype: object,\n",
       "  20319    french Style  milk eggs all-purpose flour\n",
       "  Name: recipename, dtype: object],\n",
       " [['milk', 'butter', 'sugar', 'eggs'],\n",
       "  ['milk', 'butter', 'eggs', 'all-purpose flour'],\n",
       "  ['milk', 'butter', 'water', 'eggs', 'salt', 'all-purpose flour'],\n",
       "  ['milk', 'butter', 'water', 'eggs', 'salt', 'all-purpose flour'],\n",
       "  ['milk', 'butter', 'eggs', 'salt', 'flour'],\n",
       "  ['milk', 'butter', 'eggs', 'salt', 'flour'],\n",
       "  ['milk', 'butter', 'drippings', 'eggs', 'salt', 'flour'],\n",
       "  ['milk', 'butter', 'water', 'eggs', 'salt', 'flour'],\n",
       "  ['milk', 'eggs', 'all-purpose flour'],\n",
       "  ['milk', 'eggs', 'all-purpose flour']])"
      ]
     },
     "execution_count": 42,
     "metadata": {},
     "output_type": "execute_result"
    }
   ],
   "source": [
    "recommendations"
   ]
  },
  {
   "cell_type": "code",
   "execution_count": null,
   "id": "8f3da6e2",
   "metadata": {},
   "outputs": [],
   "source": [
    "import streamlit as st\n",
    "import numpy as np\n",
    "import pandas as pd\n",
    "from sklearn.metrics.pairwise import cosine_similarity\n",
    "from rapidfuzz import process, fuzz\n",
    "\n",
    "# Load data\n",
    "data = pd.read_csv('../recipe_ingredients_dataset/ingredient_df_with_recipenames.csv')\n",
    "\n",
    "# Load in SVD Matrices \n",
    "vmatrix = pd.read_csv('../recipe_ingredients_dataset/V_1000matrix.csv',index_col=0)\n",
    "umatrix = pd.read_csv('../recipe_ingredients_dataset/U_1000matrix.csv',index_col=0)\n",
    "\n",
    "# Get list of unique ingredients and cuisine styles from the dataset\n",
    "unique_ingredients = [col for col in data.columns if col not in ['id', 'cuisine', 'recipename']]\n",
    "cuisine_styles = data['cuisine'].unique().tolist()  # Assuming 'cuisine' is a column with categorical data\n",
    "\n",
    "def main():\n",
    "    \n",
    "    st.title(\"Ingredient Input Interface\")\n",
    "\n",
    "    # Text input for ingredients\n",
    "    ingredients = st.text_input(\"Enter ingredients, separated by commas:\")\n",
    "    \n",
    "\n",
    "    # Dropdown menu for cuisine styles with a maximum of two selections\n",
    "    selected_cuisines = st.multiselect(\"Select cuisine styles (max 2):\", \n",
    "                                       cuisine_styles,\n",
    "                                       default=None,\n",
    "                                       help=\"You can select up to two cuisine styles.\")\n",
    "\n",
    "    if len(selected_cuisines) > 2:\n",
    "        st.error(\"Please select no more than two cuisine styles.\")\n",
    "    else:\n",
    "        if st.button(\"Submit\"):\n",
    "            st.success(\"Submitted successfully!\")\n",
    "            st.write(\"Entered Ingredients:\", ingredients)\n",
    "            st.write(\"Selected Cuisine Styles:\", selected_cuisines)\n",
    "            # Process the user's ingredient input through the function\n",
    "            x = ingredients_to_binary(ingredients, unique_ingredients_list)\n",
    "            # Make sample a Series for manipulation\n",
    "            x = pd.Series(x)\n",
    "            # Dot product of user input and the V matrix. \n",
    "            xcon = x.dot(vmatrix)\n",
    "            # xconcept and U must both be numpy arrays, and must be properly reshaped. \n",
    "            xcon = np.array(xcon)\n",
    "            umatrix = np.array(umatrix)\n",
    "            xcon = xcon.reshape(1, -1)\n",
    "            #cosine similarity with our U matrix\n",
    "            similarities = cosine_similarity(umatrix, xcon)\n",
    "            # Get recommended recipes and ingredients \n",
    "            recommendations = get_recipes(data, similarities, 30)\n",
    "            \n",
    "            # Display all recommendations\n",
    "            if not recommendations.empty:\n",
    "                for index, row in recommendations.iterrows():\n",
    "                    recipe_name = row['recipename']\n",
    "                    recipe_ingredients = row[unique_ingredients].where(row == 1).dropna().index.tolist()\n",
    "                    st.write(f\"**Recipe**: {recipe_name}\")\n",
    "                    st.write(f\"**Ingredients**: {', '.join(recipe_ingredients)}\")\n",
    "            else:\n",
    "                st.write(\"No recommendations found based on the input.\")\n",
    "\n",
    "\n",
    "\n",
    "if __name__ == \"__main__\":\n",
    "    main()\n",
    "\n",
    "    \n",
    "streamlit run ingredient_app.py"
   ]
  },
  {
   "cell_type": "code",
   "execution_count": null,
   "id": "55d458e7",
   "metadata": {},
   "outputs": [],
   "source": []
  }
 ],
 "metadata": {
  "kernelspec": {
   "display_name": "Python 3 (ipykernel)",
   "language": "python",
   "name": "python3"
  },
  "language_info": {
   "codemirror_mode": {
    "name": "ipython",
    "version": 3
   },
   "file_extension": ".py",
   "mimetype": "text/x-python",
   "name": "python",
   "nbconvert_exporter": "python",
   "pygments_lexer": "ipython3",
   "version": "3.10.9"
  }
 },
 "nbformat": 4,
 "nbformat_minor": 5
}
