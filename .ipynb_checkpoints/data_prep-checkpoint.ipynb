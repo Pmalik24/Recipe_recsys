{
 "cells": [
  {
   "cell_type": "code",
   "execution_count": null,
   "metadata": {},
   "outputs": [],
   "source": [
    "import pandas as pd\n",
    "pd.options.display.max_rows = 100\n",
    "pd.options.display.max_columns = 10000\n",
    "import numpy as np \n",
    "pd.set_option('display.max_colwidth', None)\n",
    "import os\n",
    "import re\n",
    "import ast"
   ]
  },
  {
   "cell_type": "code",
   "execution_count": null,
   "metadata": {},
   "outputs": [],
   "source": [
    "df_1 = pd.read_csv('recipe_ingredients_dataset/train.csv')\n",
    "df_2 = pd.read_csv('recipe_ingredients_dataset/test.csv')"
   ]
  },
  {
   "cell_type": "code",
   "execution_count": null,
   "metadata": {},
   "outputs": [],
   "source": [
    "all_cuisines = df_1['cuisine'].to_list()\n",
    "all_cuisines_unique = set(all_cuisines)\n",
    "all_cuisines_unique\n",
    "\n",
    "cuisines = []\n",
    "for i in all_cuisines_unique:\n",
    "    cuisines.append(i)\n",
    "\n",
    "cuisines"
   ]
  },
  {
   "cell_type": "code",
   "execution_count": null,
   "metadata": {},
   "outputs": [],
   "source": [
    "cuisines\n"
   ]
  },
  {
   "cell_type": "code",
   "execution_count": null,
   "metadata": {},
   "outputs": [],
   "source": [
    "np.random.seed\n",
    "df_2['cuisine'] = np.random.choice(cuisines, size=len(df_2))\n",
    "\n",
    "df_2 = df_2.reindex(columns=['id', 'cuisine', 'ingredients'])"
   ]
  },
  {
   "cell_type": "code",
   "execution_count": null,
   "metadata": {},
   "outputs": [],
   "source": [
    "full_df = pd.concat([df_1, df_2])\n",
    "full_df.sort_values(by='id', inplace=True)\n",
    "full_df             "
   ]
  },
  {
   "cell_type": "code",
   "execution_count": null,
   "metadata": {},
   "outputs": [],
   "source": [
    "full_df.to_csv('recipe_ingredients_dataset/full_df.csv', index=False)"
   ]
  },
  {
   "cell_type": "code",
   "execution_count": null,
   "metadata": {},
   "outputs": [],
   "source": [
    "df = pd.read_csv('recipe_ingredients_dataset/full_df.csv')\n",
    "print(df.head())"
   ]
  },
  {
   "cell_type": "code",
   "execution_count": null,
   "metadata": {},
   "outputs": [],
   "source": [
    "df['ingredients'] = df['ingredients'].apply(ast.literal_eval)"
   ]
  },
  {
   "cell_type": "code",
   "execution_count": null,
   "metadata": {},
   "outputs": [],
   "source": [
    "df.info()"
   ]
  },
  {
   "cell_type": "code",
   "execution_count": null,
   "metadata": {},
   "outputs": [],
   "source": [
    "all_ingredients = [ingredient for sublist in df['ingredients'] for ingredient in sublist]\n",
    "all_ingredients"
   ]
  },
  {
   "cell_type": "code",
   "execution_count": null,
   "metadata": {},
   "outputs": [],
   "source": [
    "unique_ingredients = list(set(all_ingredients))\n",
    "len(unique_ingredients)"
   ]
  },
  {
   "cell_type": "code",
   "execution_count": null,
   "metadata": {},
   "outputs": [],
   "source": [
    "unique_ingredients\n",
    "for i in range(len(unique_ingredients)):\n",
    "    unique_ingredients[i] = unique_ingredients[i].lower()"
   ]
  },
  {
   "cell_type": "code",
   "execution_count": null,
   "metadata": {},
   "outputs": [],
   "source": [
    "print(df['ingredients'].head(5))"
   ]
  },
  {
   "cell_type": "code",
   "execution_count": null,
   "metadata": {},
   "outputs": [],
   "source": [
    "# Create a list of all unique ingredients\n",
    "all_ingredients = set(ingredient for sublist in df['ingredients'] for ingredient in sublist)\n",
    "\n",
    "# Initialize a dictionary to hold our binary encoding\n",
    "ingredient_encoding = {ingredient: [] for ingredient in all_ingredients}\n",
    "\n",
    "# Populate the dictionary with binary values\n",
    "for ingredients in df['ingredients']:\n",
    "    for ingredient in all_ingredients:\n",
    "        ingredient_encoding[ingredient].append(int(ingredient in ingredients))\n",
    "\n",
    "# Convert the dictionary to a DataFrame\n",
    "ingredient_df = pd.DataFrame(ingredient_encoding)\n",
    "\n",
    "# Add recipe ID or other identifiers\n",
    "ingredient_df['id'] = df['id']\n",
    "ingredient_df['cuisine'] = df['cuisine']\n",
    "\n",
    "# Reorder columns to have 'id' and 'cuisine' at the front\n",
    "cols = ['id', 'cuisine'] + [col for col in ingredient_df if col not in ['id', 'cuisine']]\n",
    "ingredient_df = ingredient_df[cols]"
   ]
  },
  {
   "cell_type": "code",
   "execution_count": null,
   "metadata": {},
   "outputs": [],
   "source": [
    "ingredient_df.head(1)"
   ]
  },
  {
   "cell_type": "code",
   "execution_count": 1,
   "metadata": {},
   "outputs": [],
   "source": [
    "# 1st save, this df is loaded again in the 'check2.ipynb' notebook and further worked on and saved as the same name for the 2nd time.\n",
    "# Ingredient_df.to_csv('recipe_ingredients_dataset/ingredient_df.csv', index=False)"
   ]
  },
  {
   "cell_type": "code",
   "execution_count": null,
   "metadata": {},
   "outputs": [],
   "source": []
  }
 ],
 "metadata": {
  "kernelspec": {
   "display_name": "Python 3 (ipykernel)",
   "language": "python",
   "name": "python3"
  },
  "language_info": {
   "codemirror_mode": {
    "name": "ipython",
    "version": 3
   },
   "file_extension": ".py",
   "mimetype": "text/x-python",
   "name": "python",
   "nbconvert_exporter": "python",
   "pygments_lexer": "ipython3",
   "version": "3.11.3"
  }
 },
 "nbformat": 4,
 "nbformat_minor": 2
}
