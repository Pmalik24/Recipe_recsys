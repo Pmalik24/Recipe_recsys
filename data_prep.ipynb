{
 "cells": [
  {
   "cell_type": "code",
   "execution_count": 45,
   "metadata": {},
   "outputs": [],
   "source": [
    "import pandas as pd\n",
    "pd.options.display.max_rows = 1000000\n",
    "import numpy as np \n",
    "pd.set_option('display.max_colwidth', None)\n",
    "import os\n",
    "import re"
   ]
  },
  {
   "cell_type": "code",
   "execution_count": 24,
   "metadata": {},
   "outputs": [],
   "source": [
    "df_1 = pd.read_csv('recipe_ingredients_dataset/train.csv')\n",
    "df_2 = pd.read_csv('recipe_ingredients_dataset/test.csv')"
   ]
  },
  {
   "cell_type": "code",
   "execution_count": 28,
   "metadata": {},
   "outputs": [
    {
     "data": {
      "text/plain": [
       "['southern_us',\n",
       " 'jamaican',\n",
       " 'brazilian',\n",
       " 'british',\n",
       " 'filipino',\n",
       " 'mexican',\n",
       " 'japanese',\n",
       " 'russian',\n",
       " 'italian',\n",
       " 'cajun_creole',\n",
       " 'korean',\n",
       " 'vietnamese',\n",
       " 'indian',\n",
       " 'french',\n",
       " 'spanish',\n",
       " 'greek',\n",
       " 'irish',\n",
       " 'chinese',\n",
       " 'thai',\n",
       " 'moroccan']"
      ]
     },
     "execution_count": 28,
     "metadata": {},
     "output_type": "execute_result"
    }
   ],
   "source": [
    "all_cuisines = df_1['cuisine'].to_list()\n",
    "all_cuisines_unique = set(all_cuisines)\n",
    "all_cuisines_unique\n",
    "\n",
    "cuisines = []\n",
    "for i in all_cuisines_unique:\n",
    "    cuisines.append(i)\n",
    "\n",
    "cuisines"
   ]
  },
  {
   "cell_type": "code",
   "execution_count": 32,
   "metadata": {},
   "outputs": [
    {
     "data": {
      "text/plain": [
       "['southern_us',\n",
       " 'jamaican',\n",
       " 'brazilian',\n",
       " 'british',\n",
       " 'filipino',\n",
       " 'mexican',\n",
       " 'japanese',\n",
       " 'russian',\n",
       " 'italian',\n",
       " 'cajun_creole',\n",
       " 'korean',\n",
       " 'vietnamese',\n",
       " 'indian',\n",
       " 'french',\n",
       " 'spanish',\n",
       " 'greek',\n",
       " 'irish',\n",
       " 'chinese',\n",
       " 'thai',\n",
       " 'moroccan']"
      ]
     },
     "execution_count": 32,
     "metadata": {},
     "output_type": "execute_result"
    }
   ],
   "source": [
    "cuisines\n"
   ]
  },
  {
   "cell_type": "code",
   "execution_count": 38,
   "metadata": {},
   "outputs": [],
   "source": [
    "np.random.seed\n",
    "df_2['cuisine'] = np.random.choice(cuisines, size=len(df_2))\n",
    "\n",
    "df_2 = df_2.reindex(columns=['id', 'cuisine', 'ingredients'])"
   ]
  },
  {
   "cell_type": "code",
   "execution_count": 42,
   "metadata": {},
   "outputs": [
    {
     "data": {
      "text/html": [
       "<div>\n",
       "<style scoped>\n",
       "    .dataframe tbody tr th:only-of-type {\n",
       "        vertical-align: middle;\n",
       "    }\n",
       "\n",
       "    .dataframe tbody tr th {\n",
       "        vertical-align: top;\n",
       "    }\n",
       "\n",
       "    .dataframe thead th {\n",
       "        text-align: right;\n",
       "    }\n",
       "</style>\n",
       "<table border=\"1\" class=\"dataframe\">\n",
       "  <thead>\n",
       "    <tr style=\"text-align: right;\">\n",
       "      <th></th>\n",
       "      <th>id</th>\n",
       "      <th>cuisine</th>\n",
       "      <th>ingredients</th>\n",
       "    </tr>\n",
       "  </thead>\n",
       "  <tbody>\n",
       "    <tr>\n",
       "      <th>31571</th>\n",
       "      <td>0</td>\n",
       "      <td>spanish</td>\n",
       "      <td>['mussels', 'ground black pepper', 'garlic cloves', 'saffron threads', 'olive oil', 'stewed tomatoes', 'arborio rice', 'minced onion', 'medium shrimp', 'fat free less sodium chicken broth', 'green peas']</td>\n",
       "    </tr>\n",
       "    <tr>\n",
       "      <th>25290</th>\n",
       "      <td>1</td>\n",
       "      <td>mexican</td>\n",
       "      <td>['tomatoes', 'diced red onions', 'paprika', 'salt', 'corn tortillas', 'fresh cilantro', 'cremini', 'vegetable broth', 'freshly ground pepper', 'ground chipotle chile pepper', 'bell pepper', 'extra-virgin olive oil', 'yellow onion', 'ground cumin', 'poblano peppers', 'chili powder', 'garlic', 'pinto beans']</td>\n",
       "    </tr>\n",
       "    <tr>\n",
       "      <th>23447</th>\n",
       "      <td>2</td>\n",
       "      <td>french</td>\n",
       "      <td>['chicken broth', 'truffles', 'pimentos', 'green pepper', 'olives', 'roast turkey', 'egg yolks', 'heavy cream', 'tarragon leaves', 'eggs', 'flour', 'butter', 'scallions', 'cold water', 'unflavored gelatin', 'leeks', 'salt', 'aspic']</td>\n",
       "    </tr>\n",
       "    <tr>\n",
       "      <th>19464</th>\n",
       "      <td>3</td>\n",
       "      <td>chinese</td>\n",
       "      <td>['fresh ginger', 'sesame oil', 'frozen peas', 'cooked rice', 'bell pepper', 'peanut oil', 'large eggs', 'garlic', 'soy sauce', 'green onions', 'carrots']</td>\n",
       "    </tr>\n",
       "    <tr>\n",
       "      <th>19690</th>\n",
       "      <td>4</td>\n",
       "      <td>italian</td>\n",
       "      <td>['orange peel', 'cookies', 'vanilla ice cream', 'gran marnier']</td>\n",
       "    </tr>\n",
       "    <tr>\n",
       "      <th>...</th>\n",
       "      <td>...</td>\n",
       "      <td>...</td>\n",
       "      <td>...</td>\n",
       "    </tr>\n",
       "    <tr>\n",
       "      <th>13604</th>\n",
       "      <td>49713</td>\n",
       "      <td>southern_us</td>\n",
       "      <td>['black pepper', 'large eggs', 'creole seasoning', 'romano cheese', 'roasted red peppers', 'baking mix', 'canola oil', 'fresh basil', 'milk', 'chicken breast halves', 'cream cheese, soften', 'vidalia onion', 'chicken flavor stuffing mix', 'bacon slices', 'onion gravy']</td>\n",
       "    </tr>\n",
       "    <tr>\n",
       "      <th>24295</th>\n",
       "      <td>49714</td>\n",
       "      <td>irish</td>\n",
       "      <td>['chopped fresh thyme', 'chopped fresh sage', 'onions', 'fresh rosemary', 'apple cider', 'bay leaf', 'caraway seeds', 'bacon', 'carrots', 'pork sausages', 'potatoes', 'garlic', 'fresh parsley']</td>\n",
       "    </tr>\n",
       "    <tr>\n",
       "      <th>356</th>\n",
       "      <td>49715</td>\n",
       "      <td>filipino</td>\n",
       "      <td>['crumbled blue cheese', 'buffalo sauce', 'avocado', 'blue cheese dressing', 'chopped cilantro fresh', 'romaine lettuce', 'cooked chicken', 'corn kernel whole', 'flour tortillas', 'lime wedges', 'sliced green onions']</td>\n",
       "    </tr>\n",
       "    <tr>\n",
       "      <th>20646</th>\n",
       "      <td>49716</td>\n",
       "      <td>indian</td>\n",
       "      <td>['water', 'cinnamon', 'garlic', 'cardamom', 'onions', 'clove', 'mint leaves', 'star anise', 'green chilies', 'bay leaf', 'basmati rice', 'vegetables', 'ginger', 'salt', 'cucumber', 'cashew nuts', 'fennel seeds', 'chili powder', 'grated carrot', 'curds', 'ghee', 'ground turmeric']</td>\n",
       "    </tr>\n",
       "    <tr>\n",
       "      <th>28258</th>\n",
       "      <td>49717</td>\n",
       "      <td>mexican</td>\n",
       "      <td>['grape tomatoes', 'lime', 'half &amp; half', 'purple onion', 'adobo sauce', 'chile powder', 'pepper', 'garlic powder', 'onion powder', 'smoked paprika', 'boneless chicken skinless thigh', 'olive oil', 'chili powder', 'salt', 'ground cumin', 'avocado', 'fresh cilantro', 'tortillas', 'chees fresco queso', 'greek yogurt']</td>\n",
       "    </tr>\n",
       "  </tbody>\n",
       "</table>\n",
       "<p>49718 rows × 3 columns</p>\n",
       "</div>"
      ],
      "text/plain": [
       "          id      cuisine  \\\n",
       "31571      0      spanish   \n",
       "25290      1      mexican   \n",
       "23447      2       french   \n",
       "19464      3      chinese   \n",
       "19690      4      italian   \n",
       "...      ...          ...   \n",
       "13604  49713  southern_us   \n",
       "24295  49714        irish   \n",
       "356    49715     filipino   \n",
       "20646  49716       indian   \n",
       "28258  49717      mexican   \n",
       "\n",
       "                                                                                                                                                                                                                                                                                                                         ingredients  \n",
       "31571                                                                                                                    ['mussels', 'ground black pepper', 'garlic cloves', 'saffron threads', 'olive oil', 'stewed tomatoes', 'arborio rice', 'minced onion', 'medium shrimp', 'fat free less sodium chicken broth', 'green peas']  \n",
       "25290            ['tomatoes', 'diced red onions', 'paprika', 'salt', 'corn tortillas', 'fresh cilantro', 'cremini', 'vegetable broth', 'freshly ground pepper', 'ground chipotle chile pepper', 'bell pepper', 'extra-virgin olive oil', 'yellow onion', 'ground cumin', 'poblano peppers', 'chili powder', 'garlic', 'pinto beans']  \n",
       "23447                                                                                       ['chicken broth', 'truffles', 'pimentos', 'green pepper', 'olives', 'roast turkey', 'egg yolks', 'heavy cream', 'tarragon leaves', 'eggs', 'flour', 'butter', 'scallions', 'cold water', 'unflavored gelatin', 'leeks', 'salt', 'aspic']  \n",
       "19464                                                                                                                                                                      ['fresh ginger', 'sesame oil', 'frozen peas', 'cooked rice', 'bell pepper', 'peanut oil', 'large eggs', 'garlic', 'soy sauce', 'green onions', 'carrots']  \n",
       "19690                                                                                                                                                                                                                                                                ['orange peel', 'cookies', 'vanilla ice cream', 'gran marnier']  \n",
       "...                                                                                                                                                                                                                                                                                                                              ...  \n",
       "13604                                                  ['black pepper', 'large eggs', 'creole seasoning', 'romano cheese', 'roasted red peppers', 'baking mix', 'canola oil', 'fresh basil', 'milk', 'chicken breast halves', 'cream cheese, soften', 'vidalia onion', 'chicken flavor stuffing mix', 'bacon slices', 'onion gravy']  \n",
       "24295                                                                                                                              ['chopped fresh thyme', 'chopped fresh sage', 'onions', 'fresh rosemary', 'apple cider', 'bay leaf', 'caraway seeds', 'bacon', 'carrots', 'pork sausages', 'potatoes', 'garlic', 'fresh parsley']  \n",
       "356                                                                                                        ['crumbled blue cheese', 'buffalo sauce', 'avocado', 'blue cheese dressing', 'chopped cilantro fresh', 'romaine lettuce', 'cooked chicken', 'corn kernel whole', 'flour tortillas', 'lime wedges', 'sliced green onions']  \n",
       "20646                                       ['water', 'cinnamon', 'garlic', 'cardamom', 'onions', 'clove', 'mint leaves', 'star anise', 'green chilies', 'bay leaf', 'basmati rice', 'vegetables', 'ginger', 'salt', 'cucumber', 'cashew nuts', 'fennel seeds', 'chili powder', 'grated carrot', 'curds', 'ghee', 'ground turmeric']  \n",
       "28258  ['grape tomatoes', 'lime', 'half & half', 'purple onion', 'adobo sauce', 'chile powder', 'pepper', 'garlic powder', 'onion powder', 'smoked paprika', 'boneless chicken skinless thigh', 'olive oil', 'chili powder', 'salt', 'ground cumin', 'avocado', 'fresh cilantro', 'tortillas', 'chees fresco queso', 'greek yogurt']  \n",
       "\n",
       "[49718 rows x 3 columns]"
      ]
     },
     "execution_count": 42,
     "metadata": {},
     "output_type": "execute_result"
    }
   ],
   "source": [
    "full_df = pd.concat([df_1, df_2])\n",
    "full_df.sort_values(by='id', inplace=True)\n",
    "full_df             "
   ]
  },
  {
   "cell_type": "code",
   "execution_count": 47,
   "metadata": {},
   "outputs": [],
   "source": [
    "full_df.to_csv('recipe_ingredients_dataset/full_df.csv', index=False)"
   ]
  },
  {
   "cell_type": "code",
   "execution_count": null,
   "metadata": {},
   "outputs": [],
   "source": []
  }
 ],
 "metadata": {
  "kernelspec": {
   "display_name": "Python 3",
   "language": "python",
   "name": "python3"
  },
  "language_info": {
   "codemirror_mode": {
    "name": "ipython",
    "version": 3
   },
   "file_extension": ".py",
   "mimetype": "text/x-python",
   "name": "python",
   "nbconvert_exporter": "python",
   "pygments_lexer": "ipython3",
   "version": "3.11.2"
  }
 },
 "nbformat": 4,
 "nbformat_minor": 2
}
